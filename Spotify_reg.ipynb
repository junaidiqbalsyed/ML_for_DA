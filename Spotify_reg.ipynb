{
 "cells": [
  {
   "cell_type": "code",
   "execution_count": 1,
   "id": "c475db9a",
   "metadata": {},
   "outputs": [],
   "source": [
    "import numpy as np\n",
    "import pandas as pd\n",
    "import matplotlib.pyplot as plt\n",
    "import seaborn as sns"
   ]
  },
  {
   "cell_type": "code",
   "execution_count": 2,
   "id": "2d7f54b7",
   "metadata": {},
   "outputs": [
    {
     "data": {
      "text/plain": [
       "'C:\\\\Users\\\\Abhishek'"
      ]
     },
     "execution_count": 2,
     "metadata": {},
     "output_type": "execute_result"
    }
   ],
   "source": [
    "pwd"
   ]
  },
  {
   "cell_type": "code",
   "execution_count": 3,
   "id": "5a8af424",
   "metadata": {},
   "outputs": [],
   "source": [
    "df=pd.read_csv('C:/Users/Abhishek/Spotify_regression_problem/CS98XRegressionTrain.csv')\n",
    "df_test=pd.read_csv('C:/Users/Abhishek/Spotify_regression_problem/CS98XRegressionTest.csv')"
   ]
  },
  {
   "cell_type": "code",
   "execution_count": 4,
   "id": "c3dc7bf4",
   "metadata": {},
   "outputs": [
    {
     "data": {
      "text/html": [
       "<div>\n",
       "<style scoped>\n",
       "    .dataframe tbody tr th:only-of-type {\n",
       "        vertical-align: middle;\n",
       "    }\n",
       "\n",
       "    .dataframe tbody tr th {\n",
       "        vertical-align: top;\n",
       "    }\n",
       "\n",
       "    .dataframe thead th {\n",
       "        text-align: right;\n",
       "    }\n",
       "</style>\n",
       "<table border=\"1\" class=\"dataframe\">\n",
       "  <thead>\n",
       "    <tr style=\"text-align: right;\">\n",
       "      <th></th>\n",
       "      <th>Id</th>\n",
       "      <th>title</th>\n",
       "      <th>artist</th>\n",
       "      <th>top genre</th>\n",
       "      <th>year</th>\n",
       "      <th>bpm</th>\n",
       "      <th>nrgy</th>\n",
       "      <th>dnce</th>\n",
       "      <th>dB</th>\n",
       "      <th>live</th>\n",
       "      <th>val</th>\n",
       "      <th>dur</th>\n",
       "      <th>acous</th>\n",
       "      <th>spch</th>\n",
       "      <th>pop</th>\n",
       "    </tr>\n",
       "  </thead>\n",
       "  <tbody>\n",
       "    <tr>\n",
       "      <th>0</th>\n",
       "      <td>1</td>\n",
       "      <td>My Happiness</td>\n",
       "      <td>Connie Francis</td>\n",
       "      <td>adult standards</td>\n",
       "      <td>1996</td>\n",
       "      <td>107</td>\n",
       "      <td>31</td>\n",
       "      <td>45</td>\n",
       "      <td>-8</td>\n",
       "      <td>13</td>\n",
       "      <td>28</td>\n",
       "      <td>150</td>\n",
       "      <td>75</td>\n",
       "      <td>3</td>\n",
       "      <td>44</td>\n",
       "    </tr>\n",
       "    <tr>\n",
       "      <th>1</th>\n",
       "      <td>2</td>\n",
       "      <td>Unchained Melody</td>\n",
       "      <td>The Teddy Bears</td>\n",
       "      <td>NaN</td>\n",
       "      <td>2011</td>\n",
       "      <td>114</td>\n",
       "      <td>44</td>\n",
       "      <td>53</td>\n",
       "      <td>-8</td>\n",
       "      <td>13</td>\n",
       "      <td>47</td>\n",
       "      <td>139</td>\n",
       "      <td>49</td>\n",
       "      <td>3</td>\n",
       "      <td>37</td>\n",
       "    </tr>\n",
       "    <tr>\n",
       "      <th>2</th>\n",
       "      <td>3</td>\n",
       "      <td>How Deep Is Your Love</td>\n",
       "      <td>Bee Gees</td>\n",
       "      <td>adult standards</td>\n",
       "      <td>1979</td>\n",
       "      <td>105</td>\n",
       "      <td>36</td>\n",
       "      <td>63</td>\n",
       "      <td>-9</td>\n",
       "      <td>13</td>\n",
       "      <td>67</td>\n",
       "      <td>245</td>\n",
       "      <td>11</td>\n",
       "      <td>3</td>\n",
       "      <td>77</td>\n",
       "    </tr>\n",
       "    <tr>\n",
       "      <th>3</th>\n",
       "      <td>4</td>\n",
       "      <td>Woman in Love</td>\n",
       "      <td>Barbra Streisand</td>\n",
       "      <td>adult standards</td>\n",
       "      <td>1980</td>\n",
       "      <td>170</td>\n",
       "      <td>28</td>\n",
       "      <td>47</td>\n",
       "      <td>-16</td>\n",
       "      <td>13</td>\n",
       "      <td>33</td>\n",
       "      <td>232</td>\n",
       "      <td>25</td>\n",
       "      <td>3</td>\n",
       "      <td>67</td>\n",
       "    </tr>\n",
       "    <tr>\n",
       "      <th>4</th>\n",
       "      <td>5</td>\n",
       "      <td>Goodbye Yellow Brick Road - Remastered 2014</td>\n",
       "      <td>Elton John</td>\n",
       "      <td>glam rock</td>\n",
       "      <td>1973</td>\n",
       "      <td>121</td>\n",
       "      <td>47</td>\n",
       "      <td>56</td>\n",
       "      <td>-8</td>\n",
       "      <td>15</td>\n",
       "      <td>40</td>\n",
       "      <td>193</td>\n",
       "      <td>45</td>\n",
       "      <td>3</td>\n",
       "      <td>63</td>\n",
       "    </tr>\n",
       "    <tr>\n",
       "      <th>...</th>\n",
       "      <td>...</td>\n",
       "      <td>...</td>\n",
       "      <td>...</td>\n",
       "      <td>...</td>\n",
       "      <td>...</td>\n",
       "      <td>...</td>\n",
       "      <td>...</td>\n",
       "      <td>...</td>\n",
       "      <td>...</td>\n",
       "      <td>...</td>\n",
       "      <td>...</td>\n",
       "      <td>...</td>\n",
       "      <td>...</td>\n",
       "      <td>...</td>\n",
       "      <td>...</td>\n",
       "    </tr>\n",
       "    <tr>\n",
       "      <th>448</th>\n",
       "      <td>449</td>\n",
       "      <td>But Not For Me</td>\n",
       "      <td>Ella Fitzgerald</td>\n",
       "      <td>adult standards</td>\n",
       "      <td>1959</td>\n",
       "      <td>80</td>\n",
       "      <td>22</td>\n",
       "      <td>18</td>\n",
       "      <td>-17</td>\n",
       "      <td>10</td>\n",
       "      <td>16</td>\n",
       "      <td>214</td>\n",
       "      <td>92</td>\n",
       "      <td>4</td>\n",
       "      <td>45</td>\n",
       "    </tr>\n",
       "    <tr>\n",
       "      <th>449</th>\n",
       "      <td>450</td>\n",
       "      <td>Surf City</td>\n",
       "      <td>Jan &amp; Dean</td>\n",
       "      <td>brill building pop</td>\n",
       "      <td>2010</td>\n",
       "      <td>148</td>\n",
       "      <td>81</td>\n",
       "      <td>53</td>\n",
       "      <td>-13</td>\n",
       "      <td>23</td>\n",
       "      <td>96</td>\n",
       "      <td>147</td>\n",
       "      <td>50</td>\n",
       "      <td>3</td>\n",
       "      <td>50</td>\n",
       "    </tr>\n",
       "    <tr>\n",
       "      <th>450</th>\n",
       "      <td>451</td>\n",
       "      <td>Dilemma</td>\n",
       "      <td>Nelly</td>\n",
       "      <td>dance pop</td>\n",
       "      <td>2002</td>\n",
       "      <td>168</td>\n",
       "      <td>55</td>\n",
       "      <td>73</td>\n",
       "      <td>-8</td>\n",
       "      <td>20</td>\n",
       "      <td>61</td>\n",
       "      <td>289</td>\n",
       "      <td>23</td>\n",
       "      <td>14</td>\n",
       "      <td>77</td>\n",
       "    </tr>\n",
       "    <tr>\n",
       "      <th>451</th>\n",
       "      <td>452</td>\n",
       "      <td>It's Gonna Be Me</td>\n",
       "      <td>*NSYNC</td>\n",
       "      <td>boy band</td>\n",
       "      <td>2000</td>\n",
       "      <td>165</td>\n",
       "      <td>87</td>\n",
       "      <td>64</td>\n",
       "      <td>-5</td>\n",
       "      <td>6</td>\n",
       "      <td>88</td>\n",
       "      <td>191</td>\n",
       "      <td>5</td>\n",
       "      <td>8</td>\n",
       "      <td>62</td>\n",
       "    </tr>\n",
       "    <tr>\n",
       "      <th>452</th>\n",
       "      <td>453</td>\n",
       "      <td>In The Army Now</td>\n",
       "      <td>Status Quo</td>\n",
       "      <td>album rock</td>\n",
       "      <td>2002</td>\n",
       "      <td>105</td>\n",
       "      <td>73</td>\n",
       "      <td>68</td>\n",
       "      <td>-8</td>\n",
       "      <td>14</td>\n",
       "      <td>94</td>\n",
       "      <td>281</td>\n",
       "      <td>11</td>\n",
       "      <td>2</td>\n",
       "      <td>59</td>\n",
       "    </tr>\n",
       "  </tbody>\n",
       "</table>\n",
       "<p>453 rows × 15 columns</p>\n",
       "</div>"
      ],
      "text/plain": [
       "      Id                                        title            artist  \\\n",
       "0      1                                 My Happiness    Connie Francis   \n",
       "1      2                             Unchained Melody   The Teddy Bears   \n",
       "2      3                        How Deep Is Your Love          Bee Gees   \n",
       "3      4                                Woman in Love  Barbra Streisand   \n",
       "4      5  Goodbye Yellow Brick Road - Remastered 2014        Elton John   \n",
       "..   ...                                          ...               ...   \n",
       "448  449                               But Not For Me   Ella Fitzgerald   \n",
       "449  450                                    Surf City        Jan & Dean   \n",
       "450  451                                      Dilemma             Nelly   \n",
       "451  452                             It's Gonna Be Me            *NSYNC   \n",
       "452  453                              In The Army Now        Status Quo   \n",
       "\n",
       "              top genre  year  bpm  nrgy  dnce  dB  live  val  dur  acous  \\\n",
       "0       adult standards  1996  107    31    45  -8    13   28  150     75   \n",
       "1                   NaN  2011  114    44    53  -8    13   47  139     49   \n",
       "2       adult standards  1979  105    36    63  -9    13   67  245     11   \n",
       "3       adult standards  1980  170    28    47 -16    13   33  232     25   \n",
       "4             glam rock  1973  121    47    56  -8    15   40  193     45   \n",
       "..                  ...   ...  ...   ...   ...  ..   ...  ...  ...    ...   \n",
       "448     adult standards  1959   80    22    18 -17    10   16  214     92   \n",
       "449  brill building pop  2010  148    81    53 -13    23   96  147     50   \n",
       "450           dance pop  2002  168    55    73  -8    20   61  289     23   \n",
       "451            boy band  2000  165    87    64  -5     6   88  191      5   \n",
       "452          album rock  2002  105    73    68  -8    14   94  281     11   \n",
       "\n",
       "     spch  pop  \n",
       "0       3   44  \n",
       "1       3   37  \n",
       "2       3   77  \n",
       "3       3   67  \n",
       "4       3   63  \n",
       "..    ...  ...  \n",
       "448     4   45  \n",
       "449     3   50  \n",
       "450    14   77  \n",
       "451     8   62  \n",
       "452     2   59  \n",
       "\n",
       "[453 rows x 15 columns]"
      ]
     },
     "execution_count": 4,
     "metadata": {},
     "output_type": "execute_result"
    }
   ],
   "source": [
    "df"
   ]
  },
  {
   "cell_type": "code",
   "execution_count": 5,
   "id": "8f950e2d",
   "metadata": {},
   "outputs": [
    {
     "data": {
      "text/html": [
       "<div>\n",
       "<style scoped>\n",
       "    .dataframe tbody tr th:only-of-type {\n",
       "        vertical-align: middle;\n",
       "    }\n",
       "\n",
       "    .dataframe tbody tr th {\n",
       "        vertical-align: top;\n",
       "    }\n",
       "\n",
       "    .dataframe thead th {\n",
       "        text-align: right;\n",
       "    }\n",
       "</style>\n",
       "<table border=\"1\" class=\"dataframe\">\n",
       "  <thead>\n",
       "    <tr style=\"text-align: right;\">\n",
       "      <th></th>\n",
       "      <th>Id</th>\n",
       "      <th>title</th>\n",
       "      <th>artist</th>\n",
       "      <th>top genre</th>\n",
       "      <th>year</th>\n",
       "      <th>bpm</th>\n",
       "      <th>nrgy</th>\n",
       "      <th>dnce</th>\n",
       "      <th>dB</th>\n",
       "      <th>live</th>\n",
       "      <th>val</th>\n",
       "      <th>dur</th>\n",
       "      <th>acous</th>\n",
       "      <th>spch</th>\n",
       "      <th>pop</th>\n",
       "    </tr>\n",
       "  </thead>\n",
       "  <tbody>\n",
       "    <tr>\n",
       "      <th>0</th>\n",
       "      <td>1</td>\n",
       "      <td>My Happiness</td>\n",
       "      <td>Connie Francis</td>\n",
       "      <td>adult standards</td>\n",
       "      <td>1996</td>\n",
       "      <td>107</td>\n",
       "      <td>31</td>\n",
       "      <td>45</td>\n",
       "      <td>-8</td>\n",
       "      <td>13</td>\n",
       "      <td>28</td>\n",
       "      <td>150</td>\n",
       "      <td>75</td>\n",
       "      <td>3</td>\n",
       "      <td>44</td>\n",
       "    </tr>\n",
       "    <tr>\n",
       "      <th>1</th>\n",
       "      <td>2</td>\n",
       "      <td>Unchained Melody</td>\n",
       "      <td>The Teddy Bears</td>\n",
       "      <td>NaN</td>\n",
       "      <td>2011</td>\n",
       "      <td>114</td>\n",
       "      <td>44</td>\n",
       "      <td>53</td>\n",
       "      <td>-8</td>\n",
       "      <td>13</td>\n",
       "      <td>47</td>\n",
       "      <td>139</td>\n",
       "      <td>49</td>\n",
       "      <td>3</td>\n",
       "      <td>37</td>\n",
       "    </tr>\n",
       "    <tr>\n",
       "      <th>2</th>\n",
       "      <td>3</td>\n",
       "      <td>How Deep Is Your Love</td>\n",
       "      <td>Bee Gees</td>\n",
       "      <td>adult standards</td>\n",
       "      <td>1979</td>\n",
       "      <td>105</td>\n",
       "      <td>36</td>\n",
       "      <td>63</td>\n",
       "      <td>-9</td>\n",
       "      <td>13</td>\n",
       "      <td>67</td>\n",
       "      <td>245</td>\n",
       "      <td>11</td>\n",
       "      <td>3</td>\n",
       "      <td>77</td>\n",
       "    </tr>\n",
       "    <tr>\n",
       "      <th>3</th>\n",
       "      <td>4</td>\n",
       "      <td>Woman in Love</td>\n",
       "      <td>Barbra Streisand</td>\n",
       "      <td>adult standards</td>\n",
       "      <td>1980</td>\n",
       "      <td>170</td>\n",
       "      <td>28</td>\n",
       "      <td>47</td>\n",
       "      <td>-16</td>\n",
       "      <td>13</td>\n",
       "      <td>33</td>\n",
       "      <td>232</td>\n",
       "      <td>25</td>\n",
       "      <td>3</td>\n",
       "      <td>67</td>\n",
       "    </tr>\n",
       "    <tr>\n",
       "      <th>4</th>\n",
       "      <td>5</td>\n",
       "      <td>Goodbye Yellow Brick Road - Remastered 2014</td>\n",
       "      <td>Elton John</td>\n",
       "      <td>glam rock</td>\n",
       "      <td>1973</td>\n",
       "      <td>121</td>\n",
       "      <td>47</td>\n",
       "      <td>56</td>\n",
       "      <td>-8</td>\n",
       "      <td>15</td>\n",
       "      <td>40</td>\n",
       "      <td>193</td>\n",
       "      <td>45</td>\n",
       "      <td>3</td>\n",
       "      <td>63</td>\n",
       "    </tr>\n",
       "  </tbody>\n",
       "</table>\n",
       "</div>"
      ],
      "text/plain": [
       "   Id                                        title            artist  \\\n",
       "0   1                                 My Happiness    Connie Francis   \n",
       "1   2                             Unchained Melody   The Teddy Bears   \n",
       "2   3                        How Deep Is Your Love          Bee Gees   \n",
       "3   4                                Woman in Love  Barbra Streisand   \n",
       "4   5  Goodbye Yellow Brick Road - Remastered 2014        Elton John   \n",
       "\n",
       "         top genre  year  bpm  nrgy  dnce  dB  live  val  dur  acous  spch  \\\n",
       "0  adult standards  1996  107    31    45  -8    13   28  150     75     3   \n",
       "1              NaN  2011  114    44    53  -8    13   47  139     49     3   \n",
       "2  adult standards  1979  105    36    63  -9    13   67  245     11     3   \n",
       "3  adult standards  1980  170    28    47 -16    13   33  232     25     3   \n",
       "4        glam rock  1973  121    47    56  -8    15   40  193     45     3   \n",
       "\n",
       "   pop  \n",
       "0   44  \n",
       "1   37  \n",
       "2   77  \n",
       "3   67  \n",
       "4   63  "
      ]
     },
     "execution_count": 5,
     "metadata": {},
     "output_type": "execute_result"
    }
   ],
   "source": [
    "df.head()"
   ]
  },
  {
   "cell_type": "code",
   "execution_count": 6,
   "id": "bcb09b81",
   "metadata": {},
   "outputs": [
    {
     "name": "stdout",
     "output_type": "stream",
     "text": [
      "<class 'pandas.core.frame.DataFrame'>\n",
      "RangeIndex: 453 entries, 0 to 452\n",
      "Data columns (total 15 columns):\n",
      " #   Column     Non-Null Count  Dtype \n",
      "---  ------     --------------  ----- \n",
      " 0   Id         453 non-null    int64 \n",
      " 1   title      453 non-null    object\n",
      " 2   artist     453 non-null    object\n",
      " 3   top genre  438 non-null    object\n",
      " 4   year       453 non-null    int64 \n",
      " 5   bpm        453 non-null    int64 \n",
      " 6   nrgy       453 non-null    int64 \n",
      " 7   dnce       453 non-null    int64 \n",
      " 8   dB         453 non-null    int64 \n",
      " 9   live       453 non-null    int64 \n",
      " 10  val        453 non-null    int64 \n",
      " 11  dur        453 non-null    int64 \n",
      " 12  acous      453 non-null    int64 \n",
      " 13  spch       453 non-null    int64 \n",
      " 14  pop        453 non-null    int64 \n",
      "dtypes: int64(12), object(3)\n",
      "memory usage: 53.2+ KB\n"
     ]
    }
   ],
   "source": [
    "df.info()"
   ]
  },
  {
   "cell_type": "code",
   "execution_count": 7,
   "id": "0d33805f",
   "metadata": {},
   "outputs": [
    {
     "data": {
      "text/html": [
       "<div>\n",
       "<style scoped>\n",
       "    .dataframe tbody tr th:only-of-type {\n",
       "        vertical-align: middle;\n",
       "    }\n",
       "\n",
       "    .dataframe tbody tr th {\n",
       "        vertical-align: top;\n",
       "    }\n",
       "\n",
       "    .dataframe thead th {\n",
       "        text-align: right;\n",
       "    }\n",
       "</style>\n",
       "<table border=\"1\" class=\"dataframe\">\n",
       "  <thead>\n",
       "    <tr style=\"text-align: right;\">\n",
       "      <th></th>\n",
       "      <th>Id</th>\n",
       "      <th>year</th>\n",
       "      <th>bpm</th>\n",
       "      <th>nrgy</th>\n",
       "      <th>dnce</th>\n",
       "      <th>dB</th>\n",
       "      <th>live</th>\n",
       "      <th>val</th>\n",
       "      <th>dur</th>\n",
       "      <th>acous</th>\n",
       "      <th>spch</th>\n",
       "      <th>pop</th>\n",
       "    </tr>\n",
       "  </thead>\n",
       "  <tbody>\n",
       "    <tr>\n",
       "      <th>count</th>\n",
       "      <td>453.000000</td>\n",
       "      <td>453.000000</td>\n",
       "      <td>453.000000</td>\n",
       "      <td>453.000000</td>\n",
       "      <td>453.000000</td>\n",
       "      <td>453.000000</td>\n",
       "      <td>453.000000</td>\n",
       "      <td>453.000000</td>\n",
       "      <td>453.000000</td>\n",
       "      <td>453.000000</td>\n",
       "      <td>453.000000</td>\n",
       "      <td>453.000000</td>\n",
       "    </tr>\n",
       "    <tr>\n",
       "      <th>mean</th>\n",
       "      <td>227.000000</td>\n",
       "      <td>1991.443709</td>\n",
       "      <td>118.399558</td>\n",
       "      <td>60.070640</td>\n",
       "      <td>59.565121</td>\n",
       "      <td>-8.836645</td>\n",
       "      <td>17.757174</td>\n",
       "      <td>59.465784</td>\n",
       "      <td>226.278146</td>\n",
       "      <td>32.982340</td>\n",
       "      <td>5.660044</td>\n",
       "      <td>60.743929</td>\n",
       "    </tr>\n",
       "    <tr>\n",
       "      <th>std</th>\n",
       "      <td>130.914094</td>\n",
       "      <td>16.776103</td>\n",
       "      <td>25.238713</td>\n",
       "      <td>22.205284</td>\n",
       "      <td>15.484458</td>\n",
       "      <td>3.577187</td>\n",
       "      <td>13.830300</td>\n",
       "      <td>24.539868</td>\n",
       "      <td>63.770380</td>\n",
       "      <td>29.530015</td>\n",
       "      <td>5.550581</td>\n",
       "      <td>13.470083</td>\n",
       "    </tr>\n",
       "    <tr>\n",
       "      <th>min</th>\n",
       "      <td>1.000000</td>\n",
       "      <td>1948.000000</td>\n",
       "      <td>62.000000</td>\n",
       "      <td>7.000000</td>\n",
       "      <td>18.000000</td>\n",
       "      <td>-24.000000</td>\n",
       "      <td>2.000000</td>\n",
       "      <td>6.000000</td>\n",
       "      <td>98.000000</td>\n",
       "      <td>0.000000</td>\n",
       "      <td>2.000000</td>\n",
       "      <td>26.000000</td>\n",
       "    </tr>\n",
       "    <tr>\n",
       "      <th>25%</th>\n",
       "      <td>114.000000</td>\n",
       "      <td>1976.000000</td>\n",
       "      <td>100.000000</td>\n",
       "      <td>43.000000</td>\n",
       "      <td>49.000000</td>\n",
       "      <td>-11.000000</td>\n",
       "      <td>9.000000</td>\n",
       "      <td>42.000000</td>\n",
       "      <td>181.000000</td>\n",
       "      <td>7.000000</td>\n",
       "      <td>3.000000</td>\n",
       "      <td>53.000000</td>\n",
       "    </tr>\n",
       "    <tr>\n",
       "      <th>50%</th>\n",
       "      <td>227.000000</td>\n",
       "      <td>1994.000000</td>\n",
       "      <td>119.000000</td>\n",
       "      <td>63.000000</td>\n",
       "      <td>61.000000</td>\n",
       "      <td>-8.000000</td>\n",
       "      <td>13.000000</td>\n",
       "      <td>61.000000</td>\n",
       "      <td>223.000000</td>\n",
       "      <td>24.000000</td>\n",
       "      <td>4.000000</td>\n",
       "      <td>63.000000</td>\n",
       "    </tr>\n",
       "    <tr>\n",
       "      <th>75%</th>\n",
       "      <td>340.000000</td>\n",
       "      <td>2007.000000</td>\n",
       "      <td>133.000000</td>\n",
       "      <td>78.000000</td>\n",
       "      <td>70.000000</td>\n",
       "      <td>-6.000000</td>\n",
       "      <td>23.000000</td>\n",
       "      <td>80.000000</td>\n",
       "      <td>262.000000</td>\n",
       "      <td>58.000000</td>\n",
       "      <td>6.000000</td>\n",
       "      <td>71.000000</td>\n",
       "    </tr>\n",
       "    <tr>\n",
       "      <th>max</th>\n",
       "      <td>453.000000</td>\n",
       "      <td>2019.000000</td>\n",
       "      <td>199.000000</td>\n",
       "      <td>100.000000</td>\n",
       "      <td>96.000000</td>\n",
       "      <td>-1.000000</td>\n",
       "      <td>93.000000</td>\n",
       "      <td>99.000000</td>\n",
       "      <td>511.000000</td>\n",
       "      <td>100.000000</td>\n",
       "      <td>47.000000</td>\n",
       "      <td>84.000000</td>\n",
       "    </tr>\n",
       "  </tbody>\n",
       "</table>\n",
       "</div>"
      ],
      "text/plain": [
       "               Id         year         bpm        nrgy        dnce  \\\n",
       "count  453.000000   453.000000  453.000000  453.000000  453.000000   \n",
       "mean   227.000000  1991.443709  118.399558   60.070640   59.565121   \n",
       "std    130.914094    16.776103   25.238713   22.205284   15.484458   \n",
       "min      1.000000  1948.000000   62.000000    7.000000   18.000000   \n",
       "25%    114.000000  1976.000000  100.000000   43.000000   49.000000   \n",
       "50%    227.000000  1994.000000  119.000000   63.000000   61.000000   \n",
       "75%    340.000000  2007.000000  133.000000   78.000000   70.000000   \n",
       "max    453.000000  2019.000000  199.000000  100.000000   96.000000   \n",
       "\n",
       "               dB        live         val         dur       acous        spch  \\\n",
       "count  453.000000  453.000000  453.000000  453.000000  453.000000  453.000000   \n",
       "mean    -8.836645   17.757174   59.465784  226.278146   32.982340    5.660044   \n",
       "std      3.577187   13.830300   24.539868   63.770380   29.530015    5.550581   \n",
       "min    -24.000000    2.000000    6.000000   98.000000    0.000000    2.000000   \n",
       "25%    -11.000000    9.000000   42.000000  181.000000    7.000000    3.000000   \n",
       "50%     -8.000000   13.000000   61.000000  223.000000   24.000000    4.000000   \n",
       "75%     -6.000000   23.000000   80.000000  262.000000   58.000000    6.000000   \n",
       "max     -1.000000   93.000000   99.000000  511.000000  100.000000   47.000000   \n",
       "\n",
       "              pop  \n",
       "count  453.000000  \n",
       "mean    60.743929  \n",
       "std     13.470083  \n",
       "min     26.000000  \n",
       "25%     53.000000  \n",
       "50%     63.000000  \n",
       "75%     71.000000  \n",
       "max     84.000000  "
      ]
     },
     "execution_count": 7,
     "metadata": {},
     "output_type": "execute_result"
    }
   ],
   "source": [
    "df.describe()"
   ]
  },
  {
   "cell_type": "code",
   "execution_count": 8,
   "id": "46642ab9",
   "metadata": {},
   "outputs": [
    {
     "data": {
      "text/plain": [
       "Index(['Id', 'title', 'artist', 'top genre', 'year', 'bpm', 'nrgy', 'dnce',\n",
       "       'dB', 'live', 'val', 'dur', 'acous', 'spch', 'pop'],\n",
       "      dtype='object')"
      ]
     },
     "execution_count": 8,
     "metadata": {},
     "output_type": "execute_result"
    }
   ],
   "source": [
    "df.columns"
   ]
  },
  {
   "cell_type": "code",
   "execution_count": 9,
   "id": "7278554f",
   "metadata": {},
   "outputs": [],
   "source": [
    "df.rename(columns={'top genre':'top_genre'},inplace=True)\n",
    "df_test.rename(columns={'top genre':'top_genre'},inplace=True)"
   ]
  },
  {
   "cell_type": "code",
   "execution_count": 10,
   "id": "e491de7f",
   "metadata": {},
   "outputs": [
    {
     "data": {
      "text/plain": [
       "Id            int64\n",
       "title        object\n",
       "artist       object\n",
       "top_genre    object\n",
       "year          int64\n",
       "bpm           int64\n",
       "nrgy          int64\n",
       "dnce          int64\n",
       "dB            int64\n",
       "live          int64\n",
       "val           int64\n",
       "dur           int64\n",
       "acous         int64\n",
       "spch          int64\n",
       "pop           int64\n",
       "dtype: object"
      ]
     },
     "execution_count": 10,
     "metadata": {},
     "output_type": "execute_result"
    }
   ],
   "source": [
    "df.dtypes"
   ]
  },
  {
   "cell_type": "code",
   "execution_count": 11,
   "id": "e9d9d84a",
   "metadata": {},
   "outputs": [
    {
     "data": {
      "text/plain": [
       "Id            0\n",
       "title         0\n",
       "artist        0\n",
       "top_genre    15\n",
       "year          0\n",
       "bpm           0\n",
       "nrgy          0\n",
       "dnce          0\n",
       "dB            0\n",
       "live          0\n",
       "val           0\n",
       "dur           0\n",
       "acous         0\n",
       "spch          0\n",
       "pop           0\n",
       "dtype: int64"
      ]
     },
     "execution_count": 11,
     "metadata": {},
     "output_type": "execute_result"
    }
   ],
   "source": [
    "df.isnull().sum()"
   ]
  },
  {
   "cell_type": "code",
   "execution_count": 12,
   "id": "9f707938",
   "metadata": {},
   "outputs": [
    {
     "data": {
      "text/plain": [
       "Id           453\n",
       "title        451\n",
       "artist       345\n",
       "top_genre     87\n",
       "year          64\n",
       "bpm          107\n",
       "nrgy          90\n",
       "dnce          77\n",
       "dB            21\n",
       "live          58\n",
       "val           94\n",
       "dur          202\n",
       "acous         95\n",
       "spch          29\n",
       "pop           59\n",
       "dtype: int64"
      ]
     },
     "execution_count": 12,
     "metadata": {},
     "output_type": "execute_result"
    }
   ],
   "source": [
    "#print total number of unique values in each columns\n",
    "UniqVal = df.nunique(dropna=False)\n",
    "UniqVal"
   ]
  },
  {
   "cell_type": "code",
   "execution_count": 13,
   "id": "da506c06",
   "metadata": {},
   "outputs": [],
   "source": [
    "df.drop(columns=['Id','title','artist','year'],axis=1,inplace=True)\n",
    "df_test.drop(columns=['Id','title','artist','year'],axis=1,inplace=True)"
   ]
  },
  {
   "cell_type": "code",
   "execution_count": 14,
   "id": "ffcf2e87",
   "metadata": {},
   "outputs": [],
   "source": [
    "df.dropna(axis=0,inplace=True)\n",
    "#reset the index after removing null values\n",
    "df=df.reset_index(drop=True)"
   ]
  },
  {
   "cell_type": "code",
   "execution_count": 15,
   "id": "d95ea254",
   "metadata": {},
   "outputs": [],
   "source": [
    "from sklearn.preprocessing import LabelEncoder\n",
    "\n",
    "le=LabelEncoder()\n",
    "df['top_genre']=le.fit_transform(df['top_genre'])\n",
    "df_test['top_genre']=le.fit_transform(df_test['top_genre'])"
   ]
  },
  {
   "cell_type": "code",
   "execution_count": 16,
   "id": "744d3e3a",
   "metadata": {},
   "outputs": [
    {
     "data": {
      "text/plain": [
       "top_genre    438\n",
       "bpm          438\n",
       "nrgy         438\n",
       "dnce         438\n",
       "dB           438\n",
       "live         438\n",
       "val          438\n",
       "dur          438\n",
       "acous        438\n",
       "spch         438\n",
       "pop          438\n",
       "dtype: int64"
      ]
     },
     "execution_count": 16,
     "metadata": {},
     "output_type": "execute_result"
    }
   ],
   "source": [
    "df.count()"
   ]
  },
  {
   "cell_type": "code",
   "execution_count": null,
   "id": "8d5f52bf",
   "metadata": {},
   "outputs": [],
   "source": []
  },
  {
   "cell_type": "code",
   "execution_count": 17,
   "id": "1ad4041a",
   "metadata": {},
   "outputs": [
    {
     "name": "stderr",
     "output_type": "stream",
     "text": [
      "C:\\Users\\Abhishek\\anaconda3\\lib\\site-packages\\seaborn\\distributions.py:2557: FutureWarning: `distplot` is a deprecated function and will be removed in a future version. Please adapt your code to use either `displot` (a figure-level function with similar flexibility) or `histplot` (an axes-level function for histograms).\n",
      "  warnings.warn(msg, FutureWarning)\n"
     ]
    },
    {
     "data": {
      "image/png": "[encoded data removed]",
      "text/plain": [
       "<Figure size 432x288 with 1 Axes>"
      ]
     },
     "metadata": {
      "needs_background": "light"
     },
     "output_type": "display_data"
    },
    {
     "name": "stderr",
     "output_type": "stream",
     "text": [
      "C:\\Users\\Abhishek\\anaconda3\\lib\\site-packages\\seaborn\\distributions.py:2557: FutureWarning: `distplot` is a deprecated function and will be removed in a future version. Please adapt your code to use either `displot` (a figure-level function with similar flexibility) or `histplot` (an axes-level function for histograms).\n",
      "  warnings.warn(msg, FutureWarning)\n"
     ]
    },
    {
     "data": {
      "image/png": "[encoded data removed]",
      "text/plain": [
       "<Figure size 432x288 with 1 Axes>"
      ]
     },
     "metadata": {
      "needs_background": "light"
     },
     "output_type": "display_data"
    },
    {
     "name": "stderr",
     "output_type": "stream",
     "text": [
      "C:\\Users\\Abhishek\\anaconda3\\lib\\site-packages\\seaborn\\distributions.py:2557: FutureWarning: `distplot` is a deprecated function and will be removed in a future version. Please adapt your code to use either `displot` (a figure-level function with similar flexibility) or `histplot` (an axes-level function for histograms).\n",
      "  warnings.warn(msg, FutureWarning)\n"
     ]
    },
    {
     "data": {
      "image/png": "[encoded data removed]",
      "text/plain": [
       "<Figure size 432x288 with 1 Axes>"
      ]
     },
     "metadata": {
      "needs_background": "light"
     },
     "output_type": "display_data"
    },
    {
     "name": "stderr",
     "output_type": "stream",
     "text": [
      "C:\\Users\\Abhishek\\anaconda3\\lib\\site-packages\\seaborn\\distributions.py:2557: FutureWarning: `distplot` is a deprecated function and will be removed in a future version. Please adapt your code to use either `displot` (a figure-level function with similar flexibility) or `histplot` (an axes-level function for histograms).\n",
      "  warnings.warn(msg, FutureWarning)\n"
     ]
    },
    {
     "data": {
      "image/png": "[encoded data removed]",
      "text/plain": [
       "<Figure size 432x288 with 1 Axes>"
      ]
     },
     "metadata": {
      "needs_background": "light"
     },
     "output_type": "display_data"
    },
    {
     "name": "stderr",
     "output_type": "stream",
     "text": [
      "C:\\Users\\Abhishek\\anaconda3\\lib\\site-packages\\seaborn\\distributions.py:2557: FutureWarning: `distplot` is a deprecated function and will be removed in a future version. Please adapt your code to use either `displot` (a figure-level function with similar flexibility) or `histplot` (an axes-level function for histograms).\n",
      "  warnings.warn(msg, FutureWarning)\n"
     ]
    },
    {
     "data": {
      "image/png": "[encoded data removed]",
      "text/plain": [
       "<Figure size 432x288 with 1 Axes>"
      ]
     },
     "metadata": {
      "needs_background": "light"
     },
     "output_type": "display_data"
    },
    {
     "name": "stderr",
     "output_type": "stream",
     "text": [
      "C:\\Users\\Abhishek\\anaconda3\\lib\\site-packages\\seaborn\\distributions.py:2557: FutureWarning: `distplot` is a deprecated function and will be removed in a future version. Please adapt your code to use either `displot` (a figure-level function with similar flexibility) or `histplot` (an axes-level function for histograms).\n",
      "  warnings.warn(msg, FutureWarning)\n"
     ]
    },
    {
     "data": {
      "image/png": "[encoded data removed]",
      "text/plain": [
       "<Figure size 432x288 with 1 Axes>"
      ]
     },
     "metadata": {
      "needs_background": "light"
     },
     "output_type": "display_data"
    },
    {
     "name": "stderr",
     "output_type": "stream",
     "text": [
      "C:\\Users\\Abhishek\\anaconda3\\lib\\site-packages\\seaborn\\distributions.py:2557: FutureWarning: `distplot` is a deprecated function and will be removed in a future version. Please adapt your code to use either `displot` (a figure-level function with similar flexibility) or `histplot` (an axes-level function for histograms).\n",
      "  warnings.warn(msg, FutureWarning)\n"
     ]
    },
    {
     "data": {
      "image/png": "[encoded data removed]",
      "text/plain": [
       "<Figure size 432x288 with 1 Axes>"
      ]
     },
     "metadata": {
      "needs_background": "light"
     },
     "output_type": "display_data"
    },
    {
     "name": "stderr",
     "output_type": "stream",
     "text": [
      "C:\\Users\\Abhishek\\anaconda3\\lib\\site-packages\\seaborn\\distributions.py:2557: FutureWarning: `distplot` is a deprecated function and will be removed in a future version. Please adapt your code to use either `displot` (a figure-level function with similar flexibility) or `histplot` (an axes-level function for histograms).\n",
      "  warnings.warn(msg, FutureWarning)\n"
     ]
    },
    {
     "data": {
      "image/png": "[encoded data removed]",
      "text/plain": [
       "<Figure size 432x288 with 1 Axes>"
      ]
     },
     "metadata": {
      "needs_background": "light"
     },
     "output_type": "display_data"
    },
    {
     "name": "stderr",
     "output_type": "stream",
     "text": [
      "C:\\Users\\Abhishek\\anaconda3\\lib\\site-packages\\seaborn\\distributions.py:2557: FutureWarning: `distplot` is a deprecated function and will be removed in a future version. Please adapt your code to use either `displot` (a figure-level function with similar flexibility) or `histplot` (an axes-level function for histograms).\n",
      "  warnings.warn(msg, FutureWarning)\n"
     ]
    },
    {
     "data": {
      "image/png": "[encoded data removed]",
      "text/plain": [
       "<Figure size 432x288 with 1 Axes>"
      ]
     },
     "metadata": {
      "needs_background": "light"
     },
     "output_type": "display_data"
    },
    {
     "name": "stderr",
     "output_type": "stream",
     "text": [
      "C:\\Users\\Abhishek\\anaconda3\\lib\\site-packages\\seaborn\\distributions.py:2557: FutureWarning: `distplot` is a deprecated function and will be removed in a future version. Please adapt your code to use either `displot` (a figure-level function with similar flexibility) or `histplot` (an axes-level function for histograms).\n",
      "  warnings.warn(msg, FutureWarning)\n"
     ]
    },
    {
     "data": {
      "image/png": "[encoded data removed]",
      "text/plain": [
       "<Figure size 432x288 with 1 Axes>"
      ]
     },
     "metadata": {
      "needs_background": "light"
     },
     "output_type": "display_data"
    }
   ],
   "source": [
    "sns.distplot(df['bpm'])\n",
    "plt.show()\n",
    "sns.distplot(df['nrgy'])\n",
    "plt.show()\n",
    "sns.distplot(df['dnce'])\n",
    "plt.show()\n",
    "sns.distplot(df['dB'])\n",
    "plt.show()\n",
    "sns.distplot(df['live'])\n",
    "plt.show()\n",
    "sns.distplot(df['val'])\n",
    "plt.show()\n",
    "sns.distplot(df['dur'])\n",
    "plt.show()\n",
    "sns.distplot(df['acous'])\n",
    "plt.show()\n",
    "sns.distplot(df['spch'])\n",
    "plt.show()\n",
    "sns.distplot(df['pop'])\n",
    "plt.show()"
   ]
  },
  {
   "cell_type": "code",
   "execution_count": 18,
   "id": "00c05a2a",
   "metadata": {},
   "outputs": [
    {
     "data": {
      "image/png": "[encoded data removed]",
      "text/plain": [
       "<Figure size 576x288 with 1 Axes>"
      ]
     },
     "metadata": {
      "needs_background": "light"
     },
     "output_type": "display_data"
    }
   ],
   "source": [
    "#outliers in the dataset\n",
    "\n",
    "plt.figure(figsize=(8,4))\n",
    "sns.boxplot(data=df)\n",
    "plt.title('Boxplot of the dataset')\n",
    "plt.show()"
   ]
  },
  {
   "cell_type": "code",
   "execution_count": 19,
   "id": "aab32e63",
   "metadata": {},
   "outputs": [],
   "source": [
    "df=df.reset_index(drop=True)"
   ]
  },
  {
   "cell_type": "code",
   "execution_count": 20,
   "id": "08c142ad",
   "metadata": {},
   "outputs": [
    {
     "name": "stdout",
     "output_type": "stream",
     "text": [
      "top_genre    48.00\n",
      "bpm          33.00\n",
      "nrgy         34.00\n",
      "dnce         20.75\n",
      "dB            5.00\n",
      "live         14.00\n",
      "val          37.75\n",
      "dur          79.50\n",
      "acous        50.00\n",
      "spch          3.00\n",
      "pop          18.00\n",
      "dtype: float64\n"
     ]
    }
   ],
   "source": [
    "#Features=['bpm', 'nrgy', 'dnce','dB', 'live', 'val', 'dur', 'acous', 'spch', 'pop']\n",
    "Q1 = df.quantile(0.25)\n",
    "Q3 = df.quantile(0.75)\n",
    "IQR = Q3 - Q1\n",
    "print(IQR)"
   ]
  },
  {
   "cell_type": "code",
   "execution_count": 21,
   "id": "7930d3e9",
   "metadata": {},
   "outputs": [
    {
     "data": {
      "text/html": [
       "<div>\n",
       "<style scoped>\n",
       "    .dataframe tbody tr th:only-of-type {\n",
       "        vertical-align: middle;\n",
       "    }\n",
       "\n",
       "    .dataframe tbody tr th {\n",
       "        vertical-align: top;\n",
       "    }\n",
       "\n",
       "    .dataframe thead th {\n",
       "        text-align: right;\n",
       "    }\n",
       "</style>\n",
       "<table border=\"1\" class=\"dataframe\">\n",
       "  <thead>\n",
       "    <tr style=\"text-align: right;\">\n",
       "      <th></th>\n",
       "      <th>top_genre</th>\n",
       "      <th>bpm</th>\n",
       "      <th>nrgy</th>\n",
       "      <th>dnce</th>\n",
       "      <th>dB</th>\n",
       "      <th>live</th>\n",
       "      <th>val</th>\n",
       "      <th>dur</th>\n",
       "      <th>acous</th>\n",
       "      <th>spch</th>\n",
       "      <th>pop</th>\n",
       "    </tr>\n",
       "  </thead>\n",
       "  <tbody>\n",
       "    <tr>\n",
       "      <th>0</th>\n",
       "      <td>1</td>\n",
       "      <td>107</td>\n",
       "      <td>31</td>\n",
       "      <td>45</td>\n",
       "      <td>-8</td>\n",
       "      <td>13</td>\n",
       "      <td>28</td>\n",
       "      <td>150</td>\n",
       "      <td>75</td>\n",
       "      <td>3</td>\n",
       "      <td>44</td>\n",
       "    </tr>\n",
       "    <tr>\n",
       "      <th>1</th>\n",
       "      <td>1</td>\n",
       "      <td>105</td>\n",
       "      <td>36</td>\n",
       "      <td>63</td>\n",
       "      <td>-9</td>\n",
       "      <td>13</td>\n",
       "      <td>67</td>\n",
       "      <td>245</td>\n",
       "      <td>11</td>\n",
       "      <td>3</td>\n",
       "      <td>77</td>\n",
       "    </tr>\n",
       "    <tr>\n",
       "      <th>2</th>\n",
       "      <td>1</td>\n",
       "      <td>170</td>\n",
       "      <td>28</td>\n",
       "      <td>47</td>\n",
       "      <td>-16</td>\n",
       "      <td>13</td>\n",
       "      <td>33</td>\n",
       "      <td>232</td>\n",
       "      <td>25</td>\n",
       "      <td>3</td>\n",
       "      <td>67</td>\n",
       "    </tr>\n",
       "    <tr>\n",
       "      <th>3</th>\n",
       "      <td>68</td>\n",
       "      <td>121</td>\n",
       "      <td>47</td>\n",
       "      <td>56</td>\n",
       "      <td>-8</td>\n",
       "      <td>15</td>\n",
       "      <td>40</td>\n",
       "      <td>193</td>\n",
       "      <td>45</td>\n",
       "      <td>3</td>\n",
       "      <td>63</td>\n",
       "    </tr>\n",
       "    <tr>\n",
       "      <th>4</th>\n",
       "      <td>80</td>\n",
       "      <td>110</td>\n",
       "      <td>56</td>\n",
       "      <td>71</td>\n",
       "      <td>-7</td>\n",
       "      <td>12</td>\n",
       "      <td>23</td>\n",
       "      <td>223</td>\n",
       "      <td>15</td>\n",
       "      <td>6</td>\n",
       "      <td>74</td>\n",
       "    </tr>\n",
       "    <tr>\n",
       "      <th>...</th>\n",
       "      <td>...</td>\n",
       "      <td>...</td>\n",
       "      <td>...</td>\n",
       "      <td>...</td>\n",
       "      <td>...</td>\n",
       "      <td>...</td>\n",
       "      <td>...</td>\n",
       "      <td>...</td>\n",
       "      <td>...</td>\n",
       "      <td>...</td>\n",
       "      <td>...</td>\n",
       "    </tr>\n",
       "    <tr>\n",
       "      <th>431</th>\n",
       "      <td>1</td>\n",
       "      <td>121</td>\n",
       "      <td>53</td>\n",
       "      <td>50</td>\n",
       "      <td>-8</td>\n",
       "      <td>7</td>\n",
       "      <td>61</td>\n",
       "      <td>182</td>\n",
       "      <td>76</td>\n",
       "      <td>4</td>\n",
       "      <td>45</td>\n",
       "    </tr>\n",
       "    <tr>\n",
       "      <th>432</th>\n",
       "      <td>25</td>\n",
       "      <td>130</td>\n",
       "      <td>66</td>\n",
       "      <td>51</td>\n",
       "      <td>-10</td>\n",
       "      <td>11</td>\n",
       "      <td>75</td>\n",
       "      <td>161</td>\n",
       "      <td>23</td>\n",
       "      <td>6</td>\n",
       "      <td>37</td>\n",
       "    </tr>\n",
       "    <tr>\n",
       "      <th>434</th>\n",
       "      <td>25</td>\n",
       "      <td>148</td>\n",
       "      <td>81</td>\n",
       "      <td>53</td>\n",
       "      <td>-13</td>\n",
       "      <td>23</td>\n",
       "      <td>96</td>\n",
       "      <td>147</td>\n",
       "      <td>50</td>\n",
       "      <td>3</td>\n",
       "      <td>50</td>\n",
       "    </tr>\n",
       "    <tr>\n",
       "      <th>436</th>\n",
       "      <td>24</td>\n",
       "      <td>165</td>\n",
       "      <td>87</td>\n",
       "      <td>64</td>\n",
       "      <td>-5</td>\n",
       "      <td>6</td>\n",
       "      <td>88</td>\n",
       "      <td>191</td>\n",
       "      <td>5</td>\n",
       "      <td>8</td>\n",
       "      <td>62</td>\n",
       "    </tr>\n",
       "    <tr>\n",
       "      <th>437</th>\n",
       "      <td>4</td>\n",
       "      <td>105</td>\n",
       "      <td>73</td>\n",
       "      <td>68</td>\n",
       "      <td>-8</td>\n",
       "      <td>14</td>\n",
       "      <td>94</td>\n",
       "      <td>281</td>\n",
       "      <td>11</td>\n",
       "      <td>2</td>\n",
       "      <td>59</td>\n",
       "    </tr>\n",
       "  </tbody>\n",
       "</table>\n",
       "<p>364 rows × 11 columns</p>\n",
       "</div>"
      ],
      "text/plain": [
       "     top_genre  bpm  nrgy  dnce  dB  live  val  dur  acous  spch  pop\n",
       "0            1  107    31    45  -8    13   28  150     75     3   44\n",
       "1            1  105    36    63  -9    13   67  245     11     3   77\n",
       "2            1  170    28    47 -16    13   33  232     25     3   67\n",
       "3           68  121    47    56  -8    15   40  193     45     3   63\n",
       "4           80  110    56    71  -7    12   23  223     15     6   74\n",
       "..         ...  ...   ...   ...  ..   ...  ...  ...    ...   ...  ...\n",
       "431          1  121    53    50  -8     7   61  182     76     4   45\n",
       "432         25  130    66    51 -10    11   75  161     23     6   37\n",
       "434         25  148    81    53 -13    23   96  147     50     3   50\n",
       "436         24  165    87    64  -5     6   88  191      5     8   62\n",
       "437          4  105    73    68  -8    14   94  281     11     2   59\n",
       "\n",
       "[364 rows x 11 columns]"
      ]
     },
     "execution_count": 21,
     "metadata": {},
     "output_type": "execute_result"
    }
   ],
   "source": [
    "df = df[~((df < (Q1 - 1.5 * IQR)) |(df > (Q3 + 1.5 * IQR))).any(axis=1)]\n",
    "df"
   ]
  },
  {
   "cell_type": "code",
   "execution_count": 22,
   "id": "7a717c18",
   "metadata": {},
   "outputs": [
    {
     "data": {
      "image/png": "[encoded data removed]",
      "text/plain": [
       "<Figure size 576x288 with 1 Axes>"
      ]
     },
     "metadata": {
      "needs_background": "light"
     },
     "output_type": "display_data"
    }
   ],
   "source": [
    "#outliers in the dataset\n",
    "plt.figure(figsize=(8,4))\n",
    "sns.boxplot(data=df)\n",
    "plt.title('Boxplot of the dataset')\n",
    "plt.show()"
   ]
  },
  {
   "cell_type": "code",
   "execution_count": 23,
   "id": "c5067388",
   "metadata": {},
   "outputs": [
    {
     "data": {
      "image/png": "[encoded data removed]",
      "text/plain": [
       "<Figure size 720x432 with 2 Axes>"
      ]
     },
     "metadata": {
      "needs_background": "light"
     },
     "output_type": "display_data"
    }
   ],
   "source": [
    "pairplot_df = df\n",
    "pairplot_df = pairplot_df.corr()\n",
    "plt.figure(figsize=(10,6))\n",
    "sns.heatmap(pairplot_df, annot=True, cmap='YlGnBu');"
   ]
  },
  {
   "cell_type": "code",
   "execution_count": 24,
   "id": "2a5de6e8",
   "metadata": {},
   "outputs": [
    {
     "name": "stdout",
     "output_type": "stream",
     "text": [
      "<class 'pandas.core.frame.DataFrame'>\n",
      "Int64Index: 364 entries, 0 to 437\n",
      "Data columns (total 11 columns):\n",
      " #   Column     Non-Null Count  Dtype\n",
      "---  ------     --------------  -----\n",
      " 0   top_genre  364 non-null    int32\n",
      " 1   bpm        364 non-null    int64\n",
      " 2   nrgy       364 non-null    int64\n",
      " 3   dnce       364 non-null    int64\n",
      " 4   dB         364 non-null    int64\n",
      " 5   live       364 non-null    int64\n",
      " 6   val        364 non-null    int64\n",
      " 7   dur        364 non-null    int64\n",
      " 8   acous      364 non-null    int64\n",
      " 9   spch       364 non-null    int64\n",
      " 10  pop        364 non-null    int64\n",
      "dtypes: int32(1), int64(10)\n",
      "memory usage: 32.7 KB\n"
     ]
    }
   ],
   "source": [
    "df.info()"
   ]
  },
  {
   "cell_type": "code",
   "execution_count": 25,
   "id": "91dc55b7",
   "metadata": {},
   "outputs": [],
   "source": [
    "X = df.iloc[:, :-1].values\n",
    "y = df.iloc[:, -1].values"
   ]
  },
  {
   "cell_type": "code",
   "execution_count": 26,
   "id": "ee777980",
   "metadata": {},
   "outputs": [],
   "source": [
    "from sklearn.model_selection import train_test_split\n",
    "X_train, X_test, y_train, y_test = train_test_split(X, y, test_size =0.2, random_state = 0)"
   ]
  },
  {
   "cell_type": "code",
   "execution_count": 27,
   "id": "7d215329",
   "metadata": {},
   "outputs": [],
   "source": [
    "#Standarise the values of X\n",
    "from sklearn.preprocessing import StandardScaler\n",
    "sc = StandardScaler()\n",
    "X_train = sc.fit_transform(X_train)\n",
    "X_test = sc.transform(X_test)"
   ]
  },
  {
   "cell_type": "markdown",
   "id": "b17f1159",
   "metadata": {},
   "source": [
    "## Linear Regression"
   ]
  },
  {
   "cell_type": "code",
   "execution_count": 28,
   "id": "8a6284d9",
   "metadata": {},
   "outputs": [
    {
     "data": {
      "text/plain": [
       "LinearRegression()"
      ]
     },
     "execution_count": 28,
     "metadata": {},
     "output_type": "execute_result"
    }
   ],
   "source": [
    "from sklearn.linear_model import LinearRegression \n",
    "regressor = LinearRegression()\n",
    "regressor.fit(X_train, y_train)"
   ]
  },
  {
   "cell_type": "code",
   "execution_count": 29,
   "id": "50f22d11",
   "metadata": {},
   "outputs": [],
   "source": [
    "y_pred = regressor.predict(X_test)"
   ]
  },
  {
   "cell_type": "code",
   "execution_count": 30,
   "id": "7a94bb21",
   "metadata": {
    "scrolled": true
   },
   "outputs": [
    {
     "name": "stdout",
     "output_type": "stream",
     "text": [
      "[[74.53999724 64.        ]\n",
      " [63.52847752 66.        ]\n",
      " [64.33851725 70.        ]\n",
      " [49.68725826 78.        ]\n",
      " [61.62134583 79.        ]\n",
      " [59.98999466 54.        ]\n",
      " [64.57743603 71.        ]\n",
      " [76.48753666 71.        ]\n",
      " [66.90499903 55.        ]\n",
      " [76.27073209 71.        ]\n",
      " [72.06837857 68.        ]\n",
      " [59.99863204 53.        ]\n",
      " [65.11764255 59.        ]\n",
      " [70.36918902 75.        ]\n",
      " [56.25279689 59.        ]\n",
      " [52.14448813 52.        ]\n",
      " [67.92316936 58.        ]\n",
      " [62.23231754 70.        ]\n",
      " [65.29625701 67.        ]\n",
      " [57.86827726 59.        ]\n",
      " [68.11790888 75.        ]\n",
      " [57.18938953 59.        ]\n",
      " [58.19554723 75.        ]\n",
      " [62.23063306 60.        ]\n",
      " [62.4926816  70.        ]\n",
      " [42.58393788 30.        ]\n",
      " [67.40821208 68.        ]\n",
      " [48.34049887 48.        ]\n",
      " [63.97388017 53.        ]\n",
      " [56.09884597 53.        ]\n",
      " [47.13829725 55.        ]\n",
      " [67.69132037 77.        ]\n",
      " [54.57555143 62.        ]\n",
      " [66.36450924 76.        ]\n",
      " [52.28760336 48.        ]\n",
      " [64.81494246 44.        ]\n",
      " [54.54749641 49.        ]\n",
      " [53.32824044 41.        ]\n",
      " [69.66051878 73.        ]\n",
      " [67.39047243 79.        ]\n",
      " [53.05229419 77.        ]\n",
      " [55.74149733 68.        ]\n",
      " [61.12576973 81.        ]\n",
      " [61.63167654 80.        ]\n",
      " [55.0601858  55.        ]\n",
      " [49.86698298 39.        ]\n",
      " [60.94261354 58.        ]\n",
      " [56.79808535 47.        ]\n",
      " [50.31019583 55.        ]\n",
      " [55.63886386 38.        ]\n",
      " [52.12501676 78.        ]\n",
      " [58.9468226  51.        ]\n",
      " [48.78506651 56.        ]\n",
      " [75.60878288 75.        ]\n",
      " [61.26409043 80.        ]\n",
      " [68.22490728 72.        ]\n",
      " [69.73678003 65.        ]\n",
      " [43.14283245 48.        ]\n",
      " [59.12598145 69.        ]\n",
      " [56.78774903 72.        ]\n",
      " [76.62623468 80.        ]\n",
      " [47.79912661 35.        ]\n",
      " [62.23271835 68.        ]\n",
      " [63.87530158 70.        ]\n",
      " [72.13533103 72.        ]\n",
      " [71.47644902 79.        ]\n",
      " [67.30746032 69.        ]\n",
      " [64.10885693 32.        ]\n",
      " [64.9590752  70.        ]\n",
      " [67.32094728 78.        ]\n",
      " [66.33181149 80.        ]\n",
      " [52.91872685 39.        ]\n",
      " [51.29719933 74.        ]]\n"
     ]
    }
   ],
   "source": [
    "print(np.concatenate((y_pred.reshape(len(y_pred),1), y_test.reshape(len(y_test),1)),1))"
   ]
  },
  {
   "cell_type": "code",
   "execution_count": 31,
   "id": "44bb89f6",
   "metadata": {},
   "outputs": [
    {
     "name": "stdout",
     "output_type": "stream",
     "text": [
      "11.404020220808482\n"
     ]
    }
   ],
   "source": [
    "from sklearn import metrics\n",
    "print(np.sqrt(metrics.mean_squared_error(y_test,y_pred)))"
   ]
  },
  {
   "cell_type": "code",
   "execution_count": 32,
   "id": "0cea59ef",
   "metadata": {},
   "outputs": [
    {
     "name": "stdout",
     "output_type": "stream",
     "text": [
      "[ 0.00884147  0.21486825 -1.56052165  1.47976516  2.51493724 -1.07838985\n",
      " -1.81414092  4.20901356 -3.00851562  0.74839483]\n",
      "60.90378006872852\n"
     ]
    }
   ],
   "source": [
    "print(regressor.coef_)\n",
    "print(regressor.intercept_)"
   ]
  },
  {
   "cell_type": "markdown",
   "id": "d68d92e7",
   "metadata": {},
   "source": [
    "## SVM"
   ]
  },
  {
   "cell_type": "code",
   "execution_count": 33,
   "id": "69788c1c",
   "metadata": {},
   "outputs": [
    {
     "data": {
      "text/plain": [
       "SVR()"
      ]
     },
     "execution_count": 33,
     "metadata": {},
     "output_type": "execute_result"
    }
   ],
   "source": [
    "from sklearn.svm import SVR\n",
    "regressor1 = SVR(kernel = 'rbf')\n",
    "regressor1.fit(X, y)"
   ]
  },
  {
   "cell_type": "code",
   "execution_count": 34,
   "id": "8ed1600e",
   "metadata": {},
   "outputs": [],
   "source": [
    "y_pred1 = regressor1.predict(X_test)"
   ]
  },
  {
   "cell_type": "code",
   "execution_count": 35,
   "id": "4cbf2d0b",
   "metadata": {},
   "outputs": [],
   "source": [
    "#print(np.concatenate((y_pred.reshape(len(y_pred1),1), y_test.reshape(len(y_test),1)),1))"
   ]
  },
  {
   "cell_type": "code",
   "execution_count": 36,
   "id": "493ef77a",
   "metadata": {},
   "outputs": [
    {
     "name": "stdout",
     "output_type": "stream",
     "text": [
      "15.533776712340105\n"
     ]
    }
   ],
   "source": [
    "print(np.sqrt(metrics.mean_squared_error(y_test,y_pred1)))"
   ]
  },
  {
   "cell_type": "markdown",
   "id": "8259b6c9",
   "metadata": {},
   "source": [
    "## Decision Tree"
   ]
  },
  {
   "cell_type": "code",
   "execution_count": 37,
   "id": "83644ab7",
   "metadata": {},
   "outputs": [
    {
     "data": {
      "text/plain": [
       "DecisionTreeRegressor(random_state=0)"
      ]
     },
     "execution_count": 37,
     "metadata": {},
     "output_type": "execute_result"
    }
   ],
   "source": [
    "from sklearn.tree import DecisionTreeRegressor\n",
    "regressor2 = DecisionTreeRegressor(random_state = 0)\n",
    "regressor2.fit(X, y)     "
   ]
  },
  {
   "cell_type": "code",
   "execution_count": 38,
   "id": "4c081bc3",
   "metadata": {},
   "outputs": [],
   "source": [
    "y_pred2 = regressor2.predict(X_test)"
   ]
  },
  {
   "cell_type": "code",
   "execution_count": 39,
   "id": "ddff71ae",
   "metadata": {},
   "outputs": [
    {
     "name": "stdout",
     "output_type": "stream",
     "text": [
      "24.049321466804393\n"
     ]
    }
   ],
   "source": [
    "print(np.sqrt(metrics.mean_squared_error(y_test,y_pred2)))"
   ]
  },
  {
   "cell_type": "markdown",
   "id": "980f6256",
   "metadata": {},
   "source": [
    "## RandomForest"
   ]
  },
  {
   "cell_type": "code",
   "execution_count": 40,
   "id": "d8ace2db",
   "metadata": {},
   "outputs": [
    {
     "data": {
      "text/plain": [
       "RandomForestRegressor(n_estimators=10, random_state=0)"
      ]
     },
     "execution_count": 40,
     "metadata": {},
     "output_type": "execute_result"
    }
   ],
   "source": [
    "from sklearn.ensemble import RandomForestRegressor\n",
    "regressor3 = RandomForestRegressor(n_estimators = 10, random_state = 0)\n",
    "regressor3.fit(X, y)"
   ]
  },
  {
   "cell_type": "code",
   "execution_count": 41,
   "id": "004b30d5",
   "metadata": {},
   "outputs": [],
   "source": [
    "y_pred3 = regressor3.predict(X_test)"
   ]
  },
  {
   "cell_type": "code",
   "execution_count": 42,
   "id": "964992c9",
   "metadata": {},
   "outputs": [
    {
     "name": "stdout",
     "output_type": "stream",
     "text": [
      "20.29325078436819\n"
     ]
    }
   ],
   "source": [
    "print(np.sqrt(metrics.mean_squared_error(y_test,y_pred3)))"
   ]
  },
  {
   "cell_type": "code",
   "execution_count": 43,
   "id": "254b14e4",
   "metadata": {},
   "outputs": [],
   "source": [
    "X1=df_test.iloc[:,:]\n",
    "X1 = sc.transform(X1)\n",
    "y_pred_test=regressor.predict(X1)"
   ]
  },
  {
   "cell_type": "code",
   "execution_count": 44,
   "id": "114f5f53",
   "metadata": {},
   "outputs": [
    {
     "data": {
      "text/plain": [
       "[64.09784285534478,\n",
       " 64.73547002731685,\n",
       " 58.6757185937665,\n",
       " 59.98753266565324,\n",
       " 56.16320121231689,\n",
       " 63.13874256938108,\n",
       " 58.88466953857993,\n",
       " 47.21438036506601,\n",
       " 66.39606592132967,\n",
       " 68.15686899704171,\n",
       " 55.193712239015206,\n",
       " 75.51641586102151,\n",
       " 55.62455398884819,\n",
       " 62.039472766186876,\n",
       " 68.59220391043496,\n",
       " 64.66466228311532,\n",
       " 60.96202277316704,\n",
       " 62.420150414839235,\n",
       " 64.58572150086192,\n",
       " 64.31423556813901,\n",
       " 57.32000424732526,\n",
       " 56.01223172701422,\n",
       " 53.83511073712671,\n",
       " 52.35291048047798,\n",
       " 62.29951411981631,\n",
       " 66.88828662330697,\n",
       " 61.84605990694863,\n",
       " 57.7304117688153,\n",
       " 48.728319928586586,\n",
       " 71.74937583173178,\n",
       " 77.91171032844497,\n",
       " 54.957326660720796,\n",
       " 63.498772574414154,\n",
       " 73.15445424155521,\n",
       " 67.01516288889684,\n",
       " 73.43217373882003,\n",
       " 66.07679696152819,\n",
       " 53.593226385625215,\n",
       " 62.0607768059837,\n",
       " 70.052272608013,\n",
       " 67.51846195834916,\n",
       " 75.6616820004181,\n",
       " 66.84768002685102,\n",
       " 52.11407987296879,\n",
       " 61.46953761451549,\n",
       " 58.68467604970768,\n",
       " 61.52907694058487,\n",
       " 77.61514656429955,\n",
       " 54.54458751034987,\n",
       " 63.05734890095765,\n",
       " 52.770729028600925,\n",
       " 72.26605571745317,\n",
       " 58.79446727671257,\n",
       " 50.40025912101716,\n",
       " 60.09790463791457,\n",
       " 48.65097305409693,\n",
       " 70.14712598840481,\n",
       " 52.93610563422129,\n",
       " 68.4555055902969,\n",
       " 45.973820844515785,\n",
       " 64.83498318006481,\n",
       " 59.74253405755111,\n",
       " 63.529929719659094,\n",
       " 64.97165718306118,\n",
       " 64.3306365553647,\n",
       " 61.34667105633731,\n",
       " 76.93509637889716,\n",
       " 53.03072764741202,\n",
       " 60.52595431644922,\n",
       " 69.55931555199665,\n",
       " 61.812471765117074,\n",
       " 51.90341859397344,\n",
       " 50.846907311439494,\n",
       " 58.37298205215731,\n",
       " 54.385865843841906,\n",
       " 71.15950528422894,\n",
       " 69.18974442246804,\n",
       " 67.86425556731896,\n",
       " 58.31811867218272,\n",
       " 55.75453891951942,\n",
       " 65.29289976315765,\n",
       " 61.36965380231309,\n",
       " 44.8685194954582,\n",
       " 68.67084789605843,\n",
       " 46.23567088890444,\n",
       " 58.80221048306905,\n",
       " 60.448538400650655,\n",
       " 66.6134678238643,\n",
       " 51.62064253153587,\n",
       " 66.21183193250772,\n",
       " 51.08202564512342,\n",
       " 66.4457185112627,\n",
       " 67.06460033295068,\n",
       " 71.39411373987701,\n",
       " 63.990484726580334,\n",
       " 71.12792789956596,\n",
       " 58.49945707455529,\n",
       " 57.75808228343976,\n",
       " 65.33866097838808,\n",
       " 47.55526186368037,\n",
       " 54.98721291908511,\n",
       " 64.56462967957678,\n",
       " 68.36000120647178,\n",
       " 47.135204606103336,\n",
       " 50.267505377369055,\n",
       " 76.27843923317533,\n",
       " 69.85807062883464,\n",
       " 60.654978503110726,\n",
       " 55.27150542620002,\n",
       " 78.6478713715982,\n",
       " 63.157594588805246,\n",
       " 74.36335380472457,\n",
       " 74.18161629765811,\n",
       " 63.00409056281752]"
      ]
     },
     "execution_count": 44,
     "metadata": {},
     "output_type": "execute_result"
    }
   ],
   "source": [
    "list(y_pred_test)"
   ]
  },
  {
   "cell_type": "code",
   "execution_count": 45,
   "id": "eea983ff",
   "metadata": {},
   "outputs": [
    {
     "data": {
      "text/html": [
       "<div>\n",
       "<style scoped>\n",
       "    .dataframe tbody tr th:only-of-type {\n",
       "        vertical-align: middle;\n",
       "    }\n",
       "\n",
       "    .dataframe tbody tr th {\n",
       "        vertical-align: top;\n",
       "    }\n",
       "\n",
       "    .dataframe thead th {\n",
       "        text-align: right;\n",
       "    }\n",
       "</style>\n",
       "<table border=\"1\" class=\"dataframe\">\n",
       "  <thead>\n",
       "    <tr style=\"text-align: right;\">\n",
       "      <th></th>\n",
       "      <th>top_genre</th>\n",
       "      <th>bpm</th>\n",
       "      <th>nrgy</th>\n",
       "      <th>dnce</th>\n",
       "      <th>dB</th>\n",
       "      <th>live</th>\n",
       "      <th>val</th>\n",
       "      <th>dur</th>\n",
       "      <th>acous</th>\n",
       "      <th>spch</th>\n",
       "      <th>Popularity_PredcitedValues</th>\n",
       "    </tr>\n",
       "  </thead>\n",
       "  <tbody>\n",
       "    <tr>\n",
       "      <th>0</th>\n",
       "      <td>20</td>\n",
       "      <td>154</td>\n",
       "      <td>93</td>\n",
       "      <td>65</td>\n",
       "      <td>-3</td>\n",
       "      <td>75</td>\n",
       "      <td>74</td>\n",
       "      <td>213</td>\n",
       "      <td>1</td>\n",
       "      <td>18</td>\n",
       "      <td>64.097843</td>\n",
       "    </tr>\n",
       "    <tr>\n",
       "      <th>1</th>\n",
       "      <td>31</td>\n",
       "      <td>161</td>\n",
       "      <td>39</td>\n",
       "      <td>30</td>\n",
       "      <td>-15</td>\n",
       "      <td>11</td>\n",
       "      <td>14</td>\n",
       "      <td>292</td>\n",
       "      <td>26</td>\n",
       "      <td>3</td>\n",
       "      <td>64.735470</td>\n",
       "    </tr>\n",
       "    <tr>\n",
       "      <th>2</th>\n",
       "      <td>31</td>\n",
       "      <td>64</td>\n",
       "      <td>46</td>\n",
       "      <td>27</td>\n",
       "      <td>-7</td>\n",
       "      <td>12</td>\n",
       "      <td>18</td>\n",
       "      <td>179</td>\n",
       "      <td>38</td>\n",
       "      <td>3</td>\n",
       "      <td>58.675719</td>\n",
       "    </tr>\n",
       "    <tr>\n",
       "      <th>3</th>\n",
       "      <td>8</td>\n",
       "      <td>127</td>\n",
       "      <td>92</td>\n",
       "      <td>71</td>\n",
       "      <td>-9</td>\n",
       "      <td>37</td>\n",
       "      <td>53</td>\n",
       "      <td>216</td>\n",
       "      <td>6</td>\n",
       "      <td>4</td>\n",
       "      <td>59.987533</td>\n",
       "    </tr>\n",
       "    <tr>\n",
       "      <th>4</th>\n",
       "      <td>4</td>\n",
       "      <td>115</td>\n",
       "      <td>46</td>\n",
       "      <td>56</td>\n",
       "      <td>-12</td>\n",
       "      <td>21</td>\n",
       "      <td>34</td>\n",
       "      <td>153</td>\n",
       "      <td>18</td>\n",
       "      <td>3</td>\n",
       "      <td>56.163201</td>\n",
       "    </tr>\n",
       "    <tr>\n",
       "      <th>...</th>\n",
       "      <td>...</td>\n",
       "      <td>...</td>\n",
       "      <td>...</td>\n",
       "      <td>...</td>\n",
       "      <td>...</td>\n",
       "      <td>...</td>\n",
       "      <td>...</td>\n",
       "      <td>...</td>\n",
       "      <td>...</td>\n",
       "      <td>...</td>\n",
       "      <td>...</td>\n",
       "    </tr>\n",
       "    <tr>\n",
       "      <th>109</th>\n",
       "      <td>26</td>\n",
       "      <td>125</td>\n",
       "      <td>57</td>\n",
       "      <td>61</td>\n",
       "      <td>-8</td>\n",
       "      <td>38</td>\n",
       "      <td>76</td>\n",
       "      <td>209</td>\n",
       "      <td>3</td>\n",
       "      <td>47</td>\n",
       "      <td>78.647871</td>\n",
       "    </tr>\n",
       "    <tr>\n",
       "      <th>110</th>\n",
       "      <td>15</td>\n",
       "      <td>130</td>\n",
       "      <td>89</td>\n",
       "      <td>67</td>\n",
       "      <td>-6</td>\n",
       "      <td>10</td>\n",
       "      <td>80</td>\n",
       "      <td>215</td>\n",
       "      <td>4</td>\n",
       "      <td>3</td>\n",
       "      <td>63.157595</td>\n",
       "    </tr>\n",
       "    <tr>\n",
       "      <th>111</th>\n",
       "      <td>26</td>\n",
       "      <td>84</td>\n",
       "      <td>58</td>\n",
       "      <td>78</td>\n",
       "      <td>-7</td>\n",
       "      <td>14</td>\n",
       "      <td>76</td>\n",
       "      <td>253</td>\n",
       "      <td>43</td>\n",
       "      <td>27</td>\n",
       "      <td>74.363354</td>\n",
       "    </tr>\n",
       "    <tr>\n",
       "      <th>112</th>\n",
       "      <td>24</td>\n",
       "      <td>127</td>\n",
       "      <td>97</td>\n",
       "      <td>72</td>\n",
       "      <td>-5</td>\n",
       "      <td>12</td>\n",
       "      <td>73</td>\n",
       "      <td>287</td>\n",
       "      <td>6</td>\n",
       "      <td>14</td>\n",
       "      <td>74.181616</td>\n",
       "    </tr>\n",
       "    <tr>\n",
       "      <th>113</th>\n",
       "      <td>30</td>\n",
       "      <td>123</td>\n",
       "      <td>89</td>\n",
       "      <td>53</td>\n",
       "      <td>-4</td>\n",
       "      <td>29</td>\n",
       "      <td>80</td>\n",
       "      <td>249</td>\n",
       "      <td>8</td>\n",
       "      <td>3</td>\n",
       "      <td>63.004091</td>\n",
       "    </tr>\n",
       "  </tbody>\n",
       "</table>\n",
       "<p>114 rows × 11 columns</p>\n",
       "</div>"
      ],
      "text/plain": [
       "     top_genre  bpm  nrgy  dnce  dB  live  val  dur  acous  spch  \\\n",
       "0           20  154    93    65  -3    75   74  213      1    18   \n",
       "1           31  161    39    30 -15    11   14  292     26     3   \n",
       "2           31   64    46    27  -7    12   18  179     38     3   \n",
       "3            8  127    92    71  -9    37   53  216      6     4   \n",
       "4            4  115    46    56 -12    21   34  153     18     3   \n",
       "..         ...  ...   ...   ...  ..   ...  ...  ...    ...   ...   \n",
       "109         26  125    57    61  -8    38   76  209      3    47   \n",
       "110         15  130    89    67  -6    10   80  215      4     3   \n",
       "111         26   84    58    78  -7    14   76  253     43    27   \n",
       "112         24  127    97    72  -5    12   73  287      6    14   \n",
       "113         30  123    89    53  -4    29   80  249      8     3   \n",
       "\n",
       "     Popularity_PredcitedValues  \n",
       "0                     64.097843  \n",
       "1                     64.735470  \n",
       "2                     58.675719  \n",
       "3                     59.987533  \n",
       "4                     56.163201  \n",
       "..                          ...  \n",
       "109                   78.647871  \n",
       "110                   63.157595  \n",
       "111                   74.363354  \n",
       "112                   74.181616  \n",
       "113                   63.004091  \n",
       "\n",
       "[114 rows x 11 columns]"
      ]
     },
     "execution_count": 45,
     "metadata": {},
     "output_type": "execute_result"
    }
   ],
   "source": [
    "df_test['Popularity_PredcitedValues']=list(y_pred_test)\n",
    "\n",
    "df_test"
   ]
  },
  {
   "cell_type": "code",
   "execution_count": null,
   "id": "ee4ceafd",
   "metadata": {},
   "outputs": [],
   "source": []
  }
 ],
 "metadata": {
  "kernelspec": {
   "display_name": "Python 3",
   "language": "python",
   "name": "python3"
  },
  "language_info": {
   "codemirror_mode": {
    "name": "ipython",
    "version": 3
   },
   "file_extension": ".py",
   "mimetype": "text/x-python",
   "name": "python",
   "nbconvert_exporter": "python",
   "pygments_lexer": "ipython3",
   "version": "3.8.8"
  }
 },
 "nbformat": 4,
 "nbformat_minor": 5
}
